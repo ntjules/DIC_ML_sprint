{
 "metadata": {
  "language_info": {
   "codemirror_mode": {
    "name": "ipython",
    "version": 3
   },
   "file_extension": ".py",
   "mimetype": "text/x-python",
   "name": "python",
   "nbconvert_exporter": "python",
   "pygments_lexer": "ipython3",
   "version": "3.7.7"
  },
  "orig_nbformat": 4,
  "kernelspec": {
   "name": "python3",
   "display_name": "Python 3.7.7 64-bit ('3.7.7': pyenv)"
  },
  "interpreter": {
   "hash": "41e12572e2e093a11ec38850d8e6db066c93535a044bffd5ad3e8641c2dfa42f"
  }
 },
 "nbformat": 4,
 "nbformat_minor": 2,
 "cells": [
  {
   "source": [
    "### [Problem 1] Cross Validation"
   ],
   "cell_type": "markdown",
   "metadata": {}
  },
  {
   "cell_type": "code",
   "execution_count": 3,
   "metadata": {},
   "outputs": [
    {
     "output_type": "stream",
     "name": "stdout",
     "text": [
      "TRAIN: [153756 153757 153758 ... 307508 307509 307510] TEST: [     0      1      2 ... 153753 153754 153755]\nTRAIN: [     0      1      2 ... 153753 153754 153755] TEST: [153756 153757 153758 ... 307508 307509 307510]\n"
     ]
    }
   ],
   "source": [
    "import pandas as pd\n",
    "import numpy as np\n",
    "from sklearn.preprocessing import StandardScaler\n",
    "from sklearn.linear_model import LinearRegression\n",
    "from sklearn.model_selection import KFold\n",
    "from sklearn.impute import SimpleImputer\n",
    "from sklearn.preprocessing import OneHotEncoder\n",
    "from sklearn.metrics import accuracy_score\n",
    "\n",
    "# loading the csv of the dataset\n",
    "df = pd.read_csv('/home/jules/projects/dic/mldocs/application_train.csv')\n",
    "df = df.select_dtypes('number')\n",
    "\n",
    "cleaned_df = df.fillna(0)\n",
    "\n",
    "cleaned_df = cleaned_df[cleaned_df.columns[~cleaned_df.isnull().all()]]\n",
    "\n",
    "y = cleaned_df['TARGET']\n",
    "X = cleaned_df.drop(['TARGET'], axis=1)\n",
    "\n",
    "X = X.to_numpy()\n",
    "\n",
    "kf = KFold(n_splits=2)\n",
    "\n",
    "for train_index, test_index in kf.split(X):\n",
    "    print(\"TRAIN:\", train_index, \"TEST:\", test_index)\n",
    "    X_train, X_test = X[train_index], X[test_index]\n",
    "    y_train, y_test = y[train_index], y[test_index]"
   ]
  },
  {
   "cell_type": "code",
   "execution_count": 4,
   "metadata": {},
   "outputs": [],
   "source": [
    "# Standardizing the data\n",
    "\n",
    "scaler = StandardScaler()\n",
    "scaler.fit(X_train)\n",
    "X_train_trans = scaler.transform(X_train)\n",
    "X_test_trans = scaler.transform(X_test)"
   ]
  },
  {
   "source": [
    "### [Problem 2] Grid search"
   ],
   "cell_type": "markdown",
   "metadata": {}
  },
  {
   "cell_type": "code",
   "execution_count": 5,
   "metadata": {},
   "outputs": [],
   "source": [
    "from sklearn.model_selection import GridSearchCV\n",
    "from sklearn.ensemble import RandomForestClassifier\n",
    "from sklearn.svm import SVC\n",
    "from sklearn.linear_model import LogisticRegression\n",
    "\n",
    "# checking which model and params are best\n",
    "model_params = {\n",
    "    'random_forest':{\n",
    "        'model': RandomForestClassifier(),\n",
    "        'params': {\n",
    "            'n_estimators': [1,5,10]\n",
    "        }\n",
    "    },\n",
    "    'logic_regression':{\n",
    "        'model': LogisticRegression(solver=\"liblinear\",multi_class=\"auto\"),\n",
    "        'params': {\n",
    "            'C': [1,5,10]\n",
    "        }\n",
    "    }\n",
    "}\n",
    "\n",
    "# prepare an array to store the scores\n",
    "scores = []\n",
    "\n",
    "for model_name,mp in model_params.items():\n",
    "    clf = GridSearchCV(mp['model'],mp['params'], return_train_score=False)\n",
    "    clf.fit(X_train_trans,y_train)\n",
    "    scores.append({\n",
    "        'model': model_name,\n",
    "        'best_score': clf.best_score_,\n",
    "        'best_params': clf.best_params_\n",
    "    })\n",
    "\n",
    "best_model_params = pd.DataFrame(scores,columns=['model','best_score','best_params'])\n",
    "best_model_params"
   ]
  },
  {
   "source": [
    "### [Problem 3] Survey from Kaggle Notebooks"
   ],
   "cell_type": "markdown",
   "metadata": {}
  },
  {
   "source": [
    "* Hyperparameter Tuning using Grid search\n",
    "* Gradient Boosting Machine\n",
    "* Using one type of data\n",
    "* Early stopping"
   ],
   "cell_type": "markdown",
   "metadata": {}
  },
  {
   "source": [
    "### [Problem 4] Creating a model with high generalization performance"
   ],
   "cell_type": "markdown",
   "metadata": {}
  },
  {
   "cell_type": "code",
   "execution_count": null,
   "metadata": {},
   "outputs": [],
   "source": [
    "import lightgbm as lgb\n",
    "\n",
    "# an instance of the model\n",
    "model = lgb.LGBMClassifier()\n",
    "\n",
    "# default params\n",
    "default_params = model.get_params()\n",
    "\n",
    "# number of folds\n",
    "N_FOLDS = 5\n",
    "\n",
    "# dataset\n",
    "train_set = lgb.Dataset(data = X_train)\n",
    "\n",
    "cv_results = lgb.cv(default_params, train_set, num_boost_round = 10000, early_stopping_rounds = 100, metrics = 'auc', nfold = N_FOLDS, seed = 42)\n",
    "\n",
    "print('The maximum validation ROC AUC was: {:.5f}.'.format(cv_results['auc-mean'][-1]))\n",
    "print('The optimal number of boosting rounds (estimators) was {}.'.format(len(cv_results['auc-mean'])))"
   ]
  },
  {
   "source": [
    "* I have imported the whole dataset\n",
    "* I created a subset of only numbers\n",
    "* I split the data using kfold\n",
    "* I used gridsearchCV to find the best model and params to fine tune my classiffiers\n",
    "* After finding the results i tested the LGBM classifier and checked it ROC which is good\n",
    "\n",
    "**All of the techniques learnt are used through out the whole task in every problem**"
   ],
   "cell_type": "markdown",
   "metadata": {}
  },
  {
   "source": [
    "### [Problem 5] Final model selection"
   ],
   "cell_type": "markdown",
   "metadata": {}
  },
  {
   "cell_type": "code",
   "execution_count": null,
   "metadata": {},
   "outputs": [],
   "source": [
    "test_df = pd.read_csv('/home/jules/projects/dic/mldocs/application_test.csv')\n",
    "\n",
    "#remove  empy data(null)\n",
    "test_cleaned_df = test_df.fillna(0)\n",
    "\n",
    "# separating them into variables\n",
    "test_X = test_cleaned_df.select_dtypes('number')\n",
    "\n",
    "#   data standardizing\n",
    "test_scaler = StandardScaler()\n",
    "test_X_test_trans = scaler.fit_transform(test_X)\n",
    "\n",
    "# predicting\n",
    "test_reg_pred = clf.predict(test_X_test_trans)\n",
    "\n",
    "kgl_submission = pd.concat([test_df['SK_ID_CURR'], pd.Series(test_reg_pred, name='TARGET')], axis=1)\n",
    "kgl_submission.to_csv(' ', index=False)"
   ]
  }
 ]
}