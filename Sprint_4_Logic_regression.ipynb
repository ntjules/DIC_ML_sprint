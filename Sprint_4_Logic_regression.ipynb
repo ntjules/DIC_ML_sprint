{
 "cells": [
  {
   "cell_type": "code",
   "execution_count": 3,
   "source": [
    "import numpy as np\n",
    "from numpy.random import *\n",
    "import random"
   ],
   "outputs": [],
   "metadata": {}
  },
  {
   "cell_type": "code",
   "execution_count": 4,
   "source": [
    "class ScratchLogisticRegression():\n",
    "    \n",
    "    def __init__(self, num_iter, lr, bias, verbose,lam=0.1):\n",
    "        self.iter = num_iter\n",
    "        self.lr = lr\n",
    "        self.bias = bias\n",
    "        self.verbose = verbose\n",
    "        self.loss = np.zeros(self.iter+1)\n",
    "        self.val_loss = np.zeros(self.iter+1)\n",
    "        self.lam = lam\n",
    "        np.random.seed(0)\n",
    "\n",
    "    def fit(self, X, y, X_val=None, y_val=None):  \n",
    "        self.theta = np.random.rand(X.shape[1]+1)\n",
    "        self.loss[0] = self.mean_crossentropy_error(X,y)\n",
    "        if X_val is not None:\n",
    "            self.val_loss[0] = self.mean_crossentropy_error(X_val,y_val)\n",
    " \n",
    "        for n in range(self.iter):\n",
    "            self.loss[n+1] = self.gradient_descent(X,y)\n",
    "            if X_val is not None:\n",
    "                self.val_loss[n+1] = self.mean_crossentropy_error(X_val,y_val)\n",
    "        print(self.predict_proba(X)) \n",
    "\n",
    "        if self.verbose: \n",
    "            print()\n",
    "        pass\n",
    "\n",
    "    def gradient_descent(self,X,y):\n",
    "        error = (self.predict_proba(X) - y.flatten())\n",
    "        grad= np.dot(X.T,error)/X.shape[0]\n",
    "        bias_grad = np.sum(error)/X.shape[0]\n",
    "        l2 = self.lam * self.theta[:-1] / X.shape[0]\n",
    "        self.theta[:-1] = self.theta[:-1] - self.lr * (grad + l2)\n",
    "        self.theta[-1] = self.theta[-1] - self.lr * bias_grad\n",
    "        loss = self.mean_crossentropy_error(X,y)\n",
    "        return loss\n",
    "        \n",
    "\n",
    "    def predict(self, X):\n",
    "        return  np.where(self.predict_proba(X) >= 0.5,1,0)\n",
    "\n",
    "    def predict_proba(self, X):  \n",
    "        a = np.dot(self.theta[:-1],X.T) + self.theta[-1]\n",
    "        y = self.sigmoid(a)\n",
    "        return y\n",
    "        pass\n",
    "        return\n",
    "    \n",
    "    def sigmoid(self,a):\n",
    "        return 1 / (1 + np.exp(-a))\n",
    "    \n",
    "    def mean_crossentropy_error(self,X,t):\n",
    "        y = self.predict_proba(X)\n",
    "        crossentropy =  -np.sum(t *  np.log(y) + (1-t) * np.log(1-y))/X.shape[0]\n",
    "        l2_decay = np.sum(self.theta[:-1]**2)/(2 * X.shape[0])\n",
    "        return crossentropy + l2_decay"
   ],
   "outputs": [],
   "metadata": {}
  },
  {
   "cell_type": "code",
   "execution_count": 5,
   "source": [
    "import pandas as pd\n",
    "from sklearn.datasets import load_iris\n",
    "from sklearn.neighbors import KNeighborsClassifier\n",
    "from sklearn.metrics import confusion_matrix\n",
    "from sklearn.metrics import precision_score\n",
    "from sklearn.metrics import recall_score\n",
    "from sklearn.metrics import f1_score\n",
    "from sklearn.model_selection import train_test_split\n",
    "\n",
    "iris = load_iris()\n",
    "X = iris.data[50:,:]\n",
    "y = iris.target[50:]\n",
    "y = np.where(y==1, 0, 1)\n",
    "X = np.array(X)\n",
    "y = np.array(y)\n",
    "y = y.reshape([100,1])"
   ],
   "outputs": [],
   "metadata": {}
  },
  {
   "cell_type": "code",
   "execution_count": 6,
   "source": [
    "iris_df = pd.DataFrame(X, columns=[\"sepal_length\",\"sepal_width\", \"petal_length\", \"petal_width\"])\n",
    "iris_label = pd.DataFrame(y, columns=[\"Species\"])\n",
    "iris_df.head()"
   ],
   "outputs": [
    {
     "output_type": "execute_result",
     "data": {
      "text/plain": [
       "   sepal_length  sepal_width  petal_length  petal_width\n",
       "0           7.0          3.2           4.7          1.4\n",
       "1           6.4          3.2           4.5          1.5\n",
       "2           6.9          3.1           4.9          1.5\n",
       "3           5.5          2.3           4.0          1.3\n",
       "4           6.5          2.8           4.6          1.5"
      ],
      "text/html": [
       "<div>\n",
       "<style scoped>\n",
       "    .dataframe tbody tr th:only-of-type {\n",
       "        vertical-align: middle;\n",
       "    }\n",
       "\n",
       "    .dataframe tbody tr th {\n",
       "        vertical-align: top;\n",
       "    }\n",
       "\n",
       "    .dataframe thead th {\n",
       "        text-align: right;\n",
       "    }\n",
       "</style>\n",
       "<table border=\"1\" class=\"dataframe\">\n",
       "  <thead>\n",
       "    <tr style=\"text-align: right;\">\n",
       "      <th></th>\n",
       "      <th>sepal_length</th>\n",
       "      <th>sepal_width</th>\n",
       "      <th>petal_length</th>\n",
       "      <th>petal_width</th>\n",
       "    </tr>\n",
       "  </thead>\n",
       "  <tbody>\n",
       "    <tr>\n",
       "      <th>0</th>\n",
       "      <td>7.0</td>\n",
       "      <td>3.2</td>\n",
       "      <td>4.7</td>\n",
       "      <td>1.4</td>\n",
       "    </tr>\n",
       "    <tr>\n",
       "      <th>1</th>\n",
       "      <td>6.4</td>\n",
       "      <td>3.2</td>\n",
       "      <td>4.5</td>\n",
       "      <td>1.5</td>\n",
       "    </tr>\n",
       "    <tr>\n",
       "      <th>2</th>\n",
       "      <td>6.9</td>\n",
       "      <td>3.1</td>\n",
       "      <td>4.9</td>\n",
       "      <td>1.5</td>\n",
       "    </tr>\n",
       "    <tr>\n",
       "      <th>3</th>\n",
       "      <td>5.5</td>\n",
       "      <td>2.3</td>\n",
       "      <td>4.0</td>\n",
       "      <td>1.3</td>\n",
       "    </tr>\n",
       "    <tr>\n",
       "      <th>4</th>\n",
       "      <td>6.5</td>\n",
       "      <td>2.8</td>\n",
       "      <td>4.6</td>\n",
       "      <td>1.5</td>\n",
       "    </tr>\n",
       "  </tbody>\n",
       "</table>\n",
       "</div>"
      ]
     },
     "metadata": {},
     "execution_count": 6
    }
   ],
   "metadata": {}
  },
  {
   "cell_type": "code",
   "execution_count": 7,
   "source": [
    "(X_train, X_test, y_train, y_test) = train_test_split(X, y, test_size=0.3, random_state=0,)\n",
    "\n",
    "slr = ScratchLogisticRegression(num_iter=10000, lr=0.0001, bias=True, verbose=True)\n",
    "slr.fit(X_train,y_train.reshape(-1,1),X_test,y_test.reshape(-1,1))"
   ],
   "outputs": [
    {
     "output_type": "stream",
     "name": "stdout",
     "text": [
      "[0.5833805  0.49670525 0.61366377 0.52057144 0.59607262 0.51965487\n",
      " 0.47278053 0.61952885 0.59871669 0.59866049 0.52444401 0.55246838\n",
      " 0.48885129 0.52744871 0.49138753 0.47976152 0.47694334 0.52355441\n",
      " 0.54564242 0.53373686 0.57554665 0.62855935 0.46926831 0.59238359\n",
      " 0.53698085 0.67518553 0.54457023 0.58106039 0.49508258 0.55122851\n",
      " 0.48038805 0.47134917 0.55894486 0.50614346 0.48759281 0.52798883\n",
      " 0.49319115 0.52498549 0.52650852 0.56202715 0.48546101 0.46353697\n",
      " 0.52384001 0.57248714 0.65646699 0.50169442 0.60355487 0.63869795\n",
      " 0.49742245 0.57676957 0.48119962 0.44779295 0.54158847 0.53311589\n",
      " 0.51742529 0.62643565 0.51601505 0.42438174 0.5824046  0.59661824\n",
      " 0.57376587 0.49781245 0.48832128 0.52031632 0.56365686 0.53974712\n",
      " 0.58602515 0.65219706 0.49432668 0.52775237]\n",
      "\n"
     ]
    }
   ],
   "metadata": {}
  },
  {
   "cell_type": "code",
   "execution_count": 8,
   "source": [
    "slr.predict(X)"
   ],
   "outputs": [
    {
     "output_type": "execute_result",
     "data": {
      "text/plain": [
       "array([0, 1, 0, 1, 0, 1, 1, 1, 0, 1, 0, 1, 0, 1, 1, 0, 1, 0, 0, 0, 1, 0,\n",
       "       0, 0, 0, 0, 0, 1, 1, 0, 0, 0, 0, 1, 1, 1, 0, 0, 1, 1, 1, 1, 0, 0,\n",
       "       1, 1, 1, 0, 1, 1, 1, 1, 1, 1, 1, 1, 1, 1, 1, 1, 1, 1, 1, 1, 1, 1,\n",
       "       1, 1, 1, 1, 1, 1, 0, 1, 1, 1, 1, 1, 1, 0, 0, 1, 1, 1, 1, 1, 1, 1,\n",
       "       1, 1, 1, 1, 1, 1, 1, 1, 1, 1, 1, 1])"
      ]
     },
     "metadata": {},
     "execution_count": 8
    }
   ],
   "metadata": {}
  },
  {
   "cell_type": "code",
   "execution_count": 9,
   "source": [
    "slr.predict_proba(X)"
   ],
   "outputs": [
    {
     "output_type": "execute_result",
     "data": {
      "text/plain": [
       "array([0.46926831, 0.52444401, 0.48625273, 0.50378465, 0.49138753,\n",
       "       0.53373686, 0.55490855, 0.51097053, 0.46875833, 0.56365686,\n",
       "       0.48038805, 0.54457023, 0.42438174, 0.52311854, 0.52650852,\n",
       "       0.47976152, 0.57632741, 0.47694334, 0.47278053, 0.48546101,\n",
       "       0.60355487, 0.48832128, 0.4948912 , 0.49508258, 0.4778128 ,\n",
       "       0.48119962, 0.46102424, 0.51965487, 0.53698085, 0.46353697,\n",
       "       0.48441973, 0.47134917, 0.49319115, 0.54875501, 0.59238359,\n",
       "       0.58106039, 0.49781245, 0.44779295, 0.54564242, 0.51742529,\n",
       "       0.52355441, 0.52744871, 0.48885129, 0.49588447, 0.52775237,\n",
       "       0.52934011, 0.53311589, 0.49432668, 0.50443461, 0.52384001,\n",
       "       0.67518553, 0.59607262, 0.55122851, 0.57092562, 0.60742514,\n",
       "       0.52743845, 0.61952885, 0.50614346, 0.51601505, 0.62855935,\n",
       "       0.5833805 , 0.55246838, 0.56588576, 0.59871669, 0.65219706,\n",
       "       0.62643565, 0.55894486, 0.58602515, 0.52057144, 0.50169442,\n",
       "       0.59661824, 0.62366482, 0.49742245, 0.54029429, 0.59866049,\n",
       "       0.52740425, 0.55278979, 0.57676957, 0.58726   , 0.48759281,\n",
       "       0.49670525, 0.54158847, 0.5975116 , 0.52031632, 0.52498549,\n",
       "       0.52798883, 0.66303542, 0.57376587, 0.5824046 , 0.56202715,\n",
       "       0.61366377, 0.57554665, 0.59607262, 0.60928569, 0.63869795,\n",
       "       0.58740932, 0.53974712, 0.57248714, 0.65646699, 0.59760579])"
      ]
     },
     "metadata": {},
     "execution_count": 9
    }
   ],
   "metadata": {}
  },
  {
   "cell_type": "code",
   "execution_count": 10,
   "source": [
    "slr.predict_proba(X_test)"
   ],
   "outputs": [
    {
     "output_type": "execute_result",
     "data": {
      "text/plain": [
       "array([0.46102424, 0.66303542, 0.48625273, 0.52743845, 0.52740425,\n",
       "       0.60928569, 0.57632741, 0.54029429, 0.60742514, 0.58740932,\n",
       "       0.57092562, 0.59607262, 0.58726   , 0.52311854, 0.51097053,\n",
       "       0.48441973, 0.4948912 , 0.4778128 , 0.54875501, 0.46875833,\n",
       "       0.49588447, 0.56588576, 0.50378465, 0.62366482, 0.52934011,\n",
       "       0.50443461, 0.55490855, 0.59760579, 0.5975116 , 0.55278979])"
      ]
     },
     "metadata": {},
     "execution_count": 10
    }
   ],
   "metadata": {}
  },
  {
   "cell_type": "code",
   "execution_count": 11,
   "source": [
    "y_pred = slr.predict(X_test)\n",
    "y_pred = y_pred.reshape(y_test.shape)\n",
    "\n",
    "print(\"{}\".format(precision_score(y_test,y_pred)))\n",
    "print(\"{}\".format(recall_score(y_test,y_pred)))\n",
    "print(\"{}\".format(f1_score(y_test,y_pred)))\n",
    "print(confusion_matrix(y_test, y_pred))"
   ],
   "outputs": [
    {
     "output_type": "stream",
     "name": "stdout",
     "text": [
      "0.6521739130434783\n",
      "1.0\n",
      "0.7894736842105263\n",
      "[[ 7  8]\n",
      " [ 0 15]]\n"
     ]
    }
   ],
   "metadata": {}
  },
  {
   "cell_type": "markdown",
   "source": [
    "## Problem 6"
   ],
   "metadata": {}
  },
  {
   "cell_type": "code",
   "execution_count": 12,
   "source": [
    "import matplotlib.pyplot as plt\n",
    "%matplotlib inline\n",
    "plt.plot(np.arange(1,len(slr.loss)+1),slr.loss,label='train_loss',linewidth=5)\n",
    "plt.plot(np.arange(1,len(slr.val_loss)+1),slr.val_loss,label='val_loss',linewidth=5)\n",
    "plt.legend()"
   ],
   "outputs": [
    {
     "output_type": "execute_result",
     "data": {
      "text/plain": [
       "<matplotlib.legend.Legend at 0x7f5b659a6250>"
      ]
     },
     "metadata": {},
     "execution_count": 12
    },
    {
     "output_type": "display_data",
     "data": {
      "text/plain": [
       "<Figure size 432x288 with 1 Axes>"
      ],
      "image/png": "[encoded data removed]"
     },
     "metadata": {
      "needs_background": "light"
     }
    }
   ],
   "metadata": {}
  },
  {
   "cell_type": "code",
   "execution_count": 13,
   "source": [
    "slr.theta"
   ],
   "outputs": [
    {
     "output_type": "execute_result",
     "data": {
      "text/plain": [
       "array([-0.33056426,  0.27295255,  0.09930097,  0.42457614,  0.25629857])"
      ]
     },
     "metadata": {},
     "execution_count": 13
    }
   ],
   "metadata": {}
  },
  {
   "cell_type": "markdown",
   "source": [
    "## Problem 7"
   ],
   "metadata": {}
  },
  {
   "cell_type": "code",
   "execution_count": 19,
   "source": [
    "from matplotlib.colors import ListedColormap\n",
    "import matplotlib.patches as mpatches\n",
    "\n",
    "def decision_region(X, y, model, step=0.01, title='decision region', xlabel='xlabel', ylabel='ylabel', target_names=['setosa','versicolor']):\n",
    "\n",
    "    # setting\n",
    "    scatter_color = ['orange', 'red']\n",
    "    contourf_color = ['green', 'darkblue']\n",
    "    n_class = 2\n",
    "    marker = [\"o\", \"^\"]\n",
    "\n",
    "    # pred\n",
    "    mesh_f0, mesh_f1  = np.meshgrid(np.arange(np.min(X[:,0])-0.5, np.max(X[:,0])+0.5, step), np.arange(np.min(X[:,1])-0.5, np.max(X[:,1])+0.5, step))\n",
    "    mesh = np.c_[np.ravel(mesh_f0),np.ravel(mesh_f1)]\n",
    "    y_pred = model.predict(mesh).reshape(mesh_f0.shape)\n",
    "\n",
    "    # plot\n",
    "    plt.title(title)\n",
    "    plt.xlabel(xlabel)\n",
    "    plt.ylabel(ylabel)\n",
    "    plt.contourf(mesh_f0, mesh_f1, y_pred, n_class-1, cmap=ListedColormap(contourf_color))\n",
    "    plt.contour(mesh_f0, mesh_f1, y_pred, n_class-1, colors='y', linewidths=3, alpha=0.5)\n",
    "    for i, target in enumerate(set(y)):\n",
    "        plt.scatter(X[y==target][:, 0], X[y==target][:, 1], s=80, color=scatter_color[i], label=target_names[i], marker=marker[i])\n",
    "    patches = [mpatches.Patch(color=scatter_color[i], label=target_names[i]) for i in range(n_class)]\n",
    "    plt.legend(handles=patches)\n",
    "    plt.legend()\n",
    "    plt.show()"
   ],
   "outputs": [],
   "metadata": {}
  },
  {
   "cell_type": "code",
   "execution_count": 20,
   "source": [
    "X = iris.data[:100,:]\n",
    "y = iris.target[:100]\n",
    "X = X[:,[0,2]]\n",
    "(X_train, X_test, y_train, y_test) = train_test_split(X, y, test_size=0.5, random_state=0,)"
   ],
   "outputs": [],
   "metadata": {}
  },
  {
   "cell_type": "code",
   "execution_count": 21,
   "source": [
    "slr = ScratchLogisticRegression(num_iter=10000, lr=1, bias=True, verbose=True)\n",
    "slr.fit(X=X_train, y=y_train, X_val=X_test, y_val=y_test)"
   ],
   "outputs": [
    {
     "output_type": "stream",
     "name": "stdout",
     "text": [
      "[0.99964386 0.9959605  0.00657687 0.01124911 0.00620216 0.99960327\n",
      " 0.018097   0.00300252 0.02303376 0.99983959 0.00839788 0.00839788\n",
      " 0.99959517 0.95869096 0.9712214  0.9994874  0.00944045 0.99964024\n",
      " 0.00187438 0.99683945 0.01000882 0.01917647 0.00697406 0.9986559\n",
      " 0.85274628 0.99489002 0.01936744 0.99855982 0.99988743 0.99990665\n",
      " 0.01611399 0.00739505 0.98883491 0.01520424 0.01000882 0.99881741\n",
      " 0.99952163 0.00784126 0.99780237 0.99986426 0.99906592 0.00341173\n",
      " 0.01000882 0.99995956 0.01124911 0.99847236 0.99752762 0.98203725\n",
      " 0.00881533 0.05211634]\n",
      "\n"
     ]
    }
   ],
   "metadata": {}
  },
  {
   "cell_type": "code",
   "execution_count": 22,
   "source": [
    "decision_region(X, y, slr, step=0.01, title='ScratchLogisticRegression', xlabel='xlabel', ylabel='ylabel', target_names=['setosa','versicolor'])"
   ],
   "outputs": [
    {
     "output_type": "display_data",
     "data": {
      "text/plain": [
       "<Figure size 432x288 with 1 Axes>"
      ],
      "image/png": "[encoded data removed]"
     },
     "metadata": {
      "needs_background": "light"
     }
    }
   ],
   "metadata": {}
  }
 ],
 "metadata": {
  "orig_nbformat": 4,
  "language_info": {
   "name": "python",
   "version": "3.7.7",
   "mimetype": "text/x-python",
   "codemirror_mode": {
    "name": "ipython",
    "version": 3
   },
   "pygments_lexer": "ipython3",
   "nbconvert_exporter": "python",
   "file_extension": ".py"
  },
  "kernelspec": {
   "name": "python3",
   "display_name": "Python 3.7.7 64-bit ('3.7.7': pyenv)"
  },
  "interpreter": {
   "hash": "41e12572e2e093a11ec38850d8e6db066c93535a044bffd5ad3e8641c2dfa42f"
  }
 },
 "nbformat": 4,
 "nbformat_minor": 2
}